{
  "nbformat": 4,
  "nbformat_minor": 0,
  "metadata": {
    "colab": {
      "provenance": [],
      "authorship_tag": "ABX9TyOj/qhQvXou441WWN8WJNJs",
      "include_colab_link": true
    },
    "kernelspec": {
      "name": "python3",
      "display_name": "Python 3"
    },
    "language_info": {
      "name": "python"
    }
  },
  "cells": [
    {
      "cell_type": "markdown",
      "metadata": {
        "id": "view-in-github",
        "colab_type": "text"
      },
      "source": [
        "<a href=\"https://colab.research.google.com/github/hanarayan/EPAM_PRACTICE/blob/main/PracticeEPAM.ipynb\" target=\"_parent\"><img src=\"https://colab.research.google.com/assets/colab-badge.svg\" alt=\"Open In Colab\"/></a>"
      ]
    },
    {
      "cell_type": "code",
      "source": [
        "!pip install pyspark"
      ],
      "metadata": {
        "id": "kuTwHbixw97v"
      },
      "execution_count": null,
      "outputs": []
    },
    {
      "cell_type": "code",
      "execution_count": null,
      "metadata": {
        "id": "pxGPRKL9qS_S"
      },
      "outputs": [],
      "source": [
        "from pyspark import SparkContext\n",
        "\n",
        "# Check if a SparkContext already exists\n",
        "try:\n",
        "    sc = SparkContext.getOrCreate()\n",
        "    print(\"Using existing SparkContext\")\n",
        "except ValueError:\n",
        "    # If not, create a new one\n",
        "    sc = SparkContext(\"local\", \"Linkdin Example\")\n",
        "    print(\"Created a new SparkContext\")\n"
      ]
    },
    {
      "cell_type": "code",
      "source": [
        "rdd = sc.textFile(\"/content/LinkedIn people profiles datasets.csv\")"
      ],
      "metadata": {
        "id": "dF7ElJSt1MO4"
      },
      "execution_count": 12,
      "outputs": []
    },
    {
      "cell_type": "code",
      "source": [
        "header = rdd.first()\n",
        "rdd_no_header = rdd.filter(lambda line: line != header)\n",
        "print(f\"Total rows (Including header): {rdd.count()}\")\n",
        "print(f\"Total rows (excluding header): {rdd_no_header.count()}\")"
      ],
      "metadata": {
        "collapsed": true,
        "id": "bE2T-tuz1NkO"
      },
      "execution_count": null,
      "outputs": []
    },
    {
      "cell_type": "code",
      "source": [
        "\n",
        "\n",
        "header_columns = header.split(\",\")\n",
        "header_columns = [col.strip('\"\"').strip().lower() for col in header_columns]\n",
        "\n",
        "print(\"Available Columns:\")\n",
        "for column in header_columns:\n",
        "    print(column)\n",
        "\n"
      ],
      "metadata": {
        "id": "F65Tikfhw69Y"
      },
      "execution_count": null,
      "outputs": []
    },
    {
      "cell_type": "code",
      "source": [
        "rdd_split = rdd_no_header.map(lambda line: line.split(\",\"))"
      ],
      "metadata": {
        "id": "xiaiIEDKzo7R"
      },
      "execution_count": 21,
      "outputs": []
    },
    {
      "cell_type": "code",
      "source": [
        "\n",
        "def clean_column(code):\n",
        "    cleaned_code = str(code).strip().strip('\"')\n",
        "    if not cleaned_code or cleaned_code.lower() in [\"null\", \"no data\",\"--\"]:\n",
        "        return \"Not Available\"\n",
        "    return cleaned_code"
      ],
      "metadata": {
        "id": "kZM3pqb4444I"
      },
      "execution_count": 55,
      "outputs": []
    },
    {
      "cell_type": "code",
      "source": [
        "def clean_digit(following_value):\n",
        "    try:\n",
        "        # Attempt to convert to an integer\n",
        "        return int(following_value) if following_value.isdigit() else 0\n",
        "    except ValueError:\n",
        "        # If ValueError occurs, return 0\n",
        "        return 0"
      ],
      "metadata": {
        "id": "x07DzVzW9xEf"
      },
      "execution_count": 63,
      "outputs": []
    },
    {
      "cell_type": "code",
      "source": [
        "\n",
        "country_code_index = header_columns.index(\"country_code\")\n",
        "\n",
        "country_codes_rdd = rdd_split.map(lambda row: clean_column(row[country_code_index]))\n",
        "distinct_countries = country_codes_rdd.distinct().sortBy(lambda x: x.lower()).collect()\n",
        "\n",
        "print(\"Distinct Country Codes:\")\n",
        "for country in distinct_countries:\n",
        "    print(country)"
      ],
      "metadata": {
        "collapsed": true,
        "id": "PnIrrzErxUmO"
      },
      "execution_count": null,
      "outputs": []
    },
    {
      "cell_type": "code",
      "source": [
        "region_index = header_columns.index(\"region\")\n",
        "regions_rdd  = rdd_split.map(lambda row: (clean_column(row[region_index]), 1))\n",
        "region_counts = regions_rdd.reduceByKey(lambda a, b: a + b)\n",
        "region_counts_result = region_counts.sortBy(lambda x: x).collect()\n",
        "\n",
        "print(\"Region:\" )\n",
        "for region, count in region_counts_result:\n",
        "    print(f\"{region}, Count: {count}\")\n"
      ],
      "metadata": {
        "collapsed": true,
        "id": "I53BvbCcSPQz"
      },
      "execution_count": null,
      "outputs": []
    },
    {
      "cell_type": "code",
      "source": [
        "company_name_index = header_columns.index(\"current_company:name\")\n",
        "company_names_rdd = rdd_split.map(lambda row: clean_column(row[company_name_index]))\n",
        "distinct_company_names_rdd = company_names_rdd.distinct().sortBy(lambda x: x.lower()).collect()\n",
        "\n",
        "print(\"Distinct company names:\")\n",
        "for company in distinct_company_names_rdd:\n",
        "    print(company)"
      ],
      "metadata": {
        "id": "_mqJhY5mwXz5"
      },
      "execution_count": null,
      "outputs": []
    },
    {
      "cell_type": "code",
      "source": [
        "following_index = header_columns.index(\"following\")\n",
        "name_index = header_columns.index(\"name\")\n",
        "\n",
        "people_rdd = rdd_split.map(lambda row: (\n",
        "    clean_digit(clean_column(row[following_index])),  # Clean and convert the following field\n",
        "    clean_column(row[name_index])  # Clean the name field\n",
        "))\n",
        "\n",
        "\n",
        "sorted_people_rdd = people_rdd.sortBy(lambda x: x[0], ascending=False)\n",
        "\n",
        "\n",
        "top_10_followed = sorted_people_rdd.take(10)\n",
        "\n",
        "\n",
        "print(\"Top 10 Most-Followed People:\")\n",
        "for following, name in top_10_followed:\n",
        "    print(f\"{name}: {following} followers\")\n"
      ],
      "metadata": {
        "id": "Gm2_BnZzytlY"
      },
      "execution_count": null,
      "outputs": []
    }
  ]
}